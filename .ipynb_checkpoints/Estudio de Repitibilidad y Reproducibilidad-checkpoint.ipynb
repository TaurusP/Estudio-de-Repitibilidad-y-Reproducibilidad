{
 "cells": [
  {
   "cell_type": "code",
   "execution_count": 45,
   "metadata": {},
   "outputs": [],
   "source": [
    "import pandas as pd\n",
    "data = pd.read_excel(\"Libro1.xlsx\")"
   ]
  },
  {
   "cell_type": "markdown",
   "metadata": {},
   "source": [
    "# Estudio de Repitibilidad y Reproducibilidad"
   ]
  },
  {
   "cell_type": "markdown",
   "metadata": {},
   "source": [
    "### Rango de cada parte del equipo\n",
    "$$R = X_{max} - X_{min}$$"
   ]
  },
  {
   "cell_type": "code",
   "execution_count": 1,
   "metadata": {},
   "outputs": [],
   "source": [
    "def rango(mediciones): # Obtiene todos los rangos de un determinado operador\n",
    "    rango_list = list(range(0, len(mediciones)))\n",
    "    for i in range(len(rango_list)):\n",
    "        rango_list[i] = max(mediciones[i])-min(mediciones[i])\n",
    "    return rango_list"
   ]
  },
  {
   "cell_type": "markdown",
   "metadata": {},
   "source": [
    "### Rango promedio por operador\n",
    "$$ \\overline R = \\frac {1}{n} \\sum_{i=1}^n R_i $$"
   ]
  },
  {
   "cell_type": "code",
   "execution_count": 3,
   "metadata": {},
   "outputs": [],
   "source": [
    "def rango_mean(mediciones):\n",
    "    sum_r = sum(rango(mediciones))\n",
    "    r_mean = 1/len(mediciones)\n",
    "    result = r_mean * sum_r\n",
    "    return result"
   ]
  },
  {
   "cell_type": "markdown",
   "metadata": {},
   "source": [
    "### Rangos promedios totales\n",
    "$$\\overline{\\overline R} = \\frac {1}{m} \\sum_{i=1}^m \\overline R_i $$ "
   ]
  },
  {
   "cell_type": "code",
   "execution_count": 37,
   "metadata": {},
   "outputs": [],
   "source": [
    "def RPT (data_int,index):\n",
    "    import numpy as np\n",
    "    ops_names= data_int[index].unique().tolist()    \n",
    "    total_colums = data_int.columns.values.tolist()\n",
    "    a = set([index])\n",
    "    b = set(total_colums)\n",
    "    ensayos = b-a\n",
    "    ensayos = list(ensayos)\n",
    "    ensayos.reverse()\n",
    "    x=[]\n",
    "    y=[]\n",
    "    #Calculamos el rango de cada parte\n",
    "    for i in ops_names:\n",
    "        row = data_int[data_int[index]==i][ensayos].values.tolist()\n",
    "        row = np.array(row)\n",
    "        x.append(rango_mean(row.transpose()))\n",
    "    RPT = 1/len(ops_names)*sum(x)\n",
    "    return RPT"
   ]
  },
  {
   "cell_type": "code",
   "execution_count": null,
   "metadata": {},
   "outputs": [],
   "source": []
  }
 ],
 "metadata": {
  "kernelspec": {
   "display_name": "Python 3",
   "language": "python",
   "name": "python3"
  },
  "language_info": {
   "codemirror_mode": {
    "name": "ipython",
    "version": 3
   },
   "file_extension": ".py",
   "mimetype": "text/x-python",
   "name": "python",
   "nbconvert_exporter": "python",
   "pygments_lexer": "ipython3",
   "version": "3.7.4"
  }
 },
 "nbformat": 4,
 "nbformat_minor": 2
}
