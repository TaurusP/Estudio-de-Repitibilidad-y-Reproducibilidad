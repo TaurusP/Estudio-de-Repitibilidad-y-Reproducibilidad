{
 "cells": [
  {
   "cell_type": "code",
   "execution_count": 337,
   "metadata": {},
   "outputs": [
    {
     "data": {
      "text/html": [
       "<div>\n",
       "<style scoped>\n",
       "    .dataframe tbody tr th:only-of-type {\n",
       "        vertical-align: middle;\n",
       "    }\n",
       "\n",
       "    .dataframe tbody tr th {\n",
       "        vertical-align: top;\n",
       "    }\n",
       "\n",
       "    .dataframe thead th {\n",
       "        text-align: right;\n",
       "    }\n",
       "</style>\n",
       "<table border=\"1\" class=\"dataframe\">\n",
       "  <thead>\n",
       "    <tr style=\"text-align: right;\">\n",
       "      <th></th>\n",
       "      <th>operador</th>\n",
       "      <th>V1</th>\n",
       "      <th>V2</th>\n",
       "      <th>V3</th>\n",
       "    </tr>\n",
       "  </thead>\n",
       "  <tbody>\n",
       "    <tr>\n",
       "      <th>0</th>\n",
       "      <td>A</td>\n",
       "      <td>570.7</td>\n",
       "      <td>570.5</td>\n",
       "      <td>570.7</td>\n",
       "    </tr>\n",
       "    <tr>\n",
       "      <th>1</th>\n",
       "      <td>A</td>\n",
       "      <td>570.7</td>\n",
       "      <td>570.6</td>\n",
       "      <td>570.8</td>\n",
       "    </tr>\n",
       "    <tr>\n",
       "      <th>2</th>\n",
       "      <td>A</td>\n",
       "      <td>570.7</td>\n",
       "      <td>570.5</td>\n",
       "      <td>570.7</td>\n",
       "    </tr>\n",
       "    <tr>\n",
       "      <th>3</th>\n",
       "      <td>A</td>\n",
       "      <td>570.8</td>\n",
       "      <td>570.6</td>\n",
       "      <td>570.8</td>\n",
       "    </tr>\n",
       "    <tr>\n",
       "      <th>4</th>\n",
       "      <td>A</td>\n",
       "      <td>570.8</td>\n",
       "      <td>570.5</td>\n",
       "      <td>570.7</td>\n",
       "    </tr>\n",
       "  </tbody>\n",
       "</table>\n",
       "</div>"
      ],
      "text/plain": [
       "  operador     V1     V2     V3\n",
       "0        A  570.7  570.5  570.7\n",
       "1        A  570.7  570.6  570.8\n",
       "2        A  570.7  570.5  570.7\n",
       "3        A  570.8  570.6  570.8\n",
       "4        A  570.8  570.5  570.7"
      ]
     },
     "execution_count": 337,
     "metadata": {},
     "output_type": "execute_result"
    }
   ],
   "source": [
    "import pandas as pd\n",
    "import numpy as np\n",
    "data = pd.read_excel(\"Libro2.xlsx\")\n",
    "data.head()"
   ]
  },
  {
   "cell_type": "code",
   "execution_count": 338,
   "metadata": {},
   "outputs": [],
   "source": [
    "def get_ensayos (data_int,index):\n",
    "    ops_names= data_int[index].unique().tolist()    \n",
    "    total_colums = data_int.columns.values.tolist()\n",
    "    a = set([index])\n",
    "    b = set(total_colums)\n",
    "    ensayos = b-a\n",
    "    ensayos = list(ensayos)\n",
    "    ensayos.sort()\n",
    "    return ensayos,ops_names"
   ]
  },
  {
   "cell_type": "code",
   "execution_count": 339,
   "metadata": {},
   "outputs": [
    {
     "data": {
      "text/plain": [
       "(['V1', 'V2', 'V3'], ['A', 'B', 'C'])"
      ]
     },
     "execution_count": 339,
     "metadata": {},
     "output_type": "execute_result"
    }
   ],
   "source": [
    "GE = get_ensayos(data,\"operador\")\n",
    "GE"
   ]
  },
  {
   "cell_type": "code",
   "execution_count": 251,
   "metadata": {},
   "outputs": [],
   "source": [
    "def get_nr(data_int,index):\n",
    "    n = 0\n",
    "    r = 0\n",
    "    transpose_list = data_int[data_int[index] == data_int[index].unique()[0] ][get_ensayos(data_int,index)[0]].values.transpose()\n",
    "    return transpose_list.shape"
   ]
  },
  {
   "cell_type": "markdown",
   "metadata": {},
   "source": [
    "# Estudio de Repitibilidad y Reproducibilidad"
   ]
  },
  {
   "cell_type": "markdown",
   "metadata": {},
   "source": [
    "### Rango de cada parte del equipo\n",
    "$$R = X_{max} - X_{min}$$"
   ]
  },
  {
   "cell_type": "code",
   "execution_count": 317,
   "metadata": {},
   "outputs": [],
   "source": [
    "def rango(mediciones): # Obtiene todos los rangos de un determinado operad\n",
    "    rango_list = list(range(0, len(mediciones)))\n",
    "    for i in range(len(rango_list)):\n",
    "        rango_list[i] = max(mediciones[i])-min(mediciones[i])\n",
    "    print(\"Rango de cada parte del equipo: \"+ str(rango_list))\n",
    "    return rango_list"
   ]
  },
  {
   "cell_type": "markdown",
   "metadata": {},
   "source": [
    "### Rango promedio por operador\n",
    "$$ \\overline R = \\frac {1}{n} \\sum_{i=1}^n R_i $$"
   ]
  },
  {
   "cell_type": "code",
   "execution_count": 318,
   "metadata": {},
   "outputs": [],
   "source": [
    "def rango_mean(mediciones):\n",
    "    sum_r = sum(rango(mediciones))\n",
    "    r_mean = 1/len(mediciones)\n",
    "    result = r_mean * sum_r\n",
    "    print(\"Rango promedio por operador: \"+str(result))\n",
    "    return result"
   ]
  },
  {
   "cell_type": "markdown",
   "metadata": {},
   "source": [
    "### Rangos promedios totales\n",
    "$$\\overline{\\overline R} = \\frac {1}{m} \\sum_{i=1}^m \\overline R_i $$ "
   ]
  },
  {
   "cell_type": "code",
   "execution_count": 319,
   "metadata": {},
   "outputs": [],
   "source": [
    "def RPT (data_int,index):\n",
    "    import numpy as np\n",
    "    ensayos = get_ensayos(data_int,index)[0]\n",
    "    ops_names = get_ensayos(data_int,index)[1]\n",
    "    x=[]\n",
    "    y=[]\n",
    "    #Calculamos el rango de cada parte\n",
    "    for i in ops_names:\n",
    "        row = data_int[data_int[index]==i][ensayos].values.tolist()\n",
    "        row = np.array(row)\n",
    "        x.append(rango_mean(row.transpose()))\n",
    "    RPT_V = 1/len(ops_names)*sum(x)\n",
    "    print(\"Rangos promedios totales:\" + str(RPT_V))\n",
    "    return RPT_V"
   ]
  },
  {
   "cell_type": "code",
   "execution_count": 320,
   "metadata": {},
   "outputs": [
    {
     "name": "stdout",
     "output_type": "stream",
     "text": [
      "Rango de cada parte del equipo: [5.7000000000000455, 0.20000000000004547, 0.20000000000004547]\n",
      "Rango promedio por operador: 2.0333333333333785\n",
      "Rango de cada parte del equipo: [6.5, 0.20000000000004547, 0.20000000000004547]\n",
      "Rango promedio por operador: 2.30000000000003\n",
      "Rango de cada parte del equipo: [6.399999999999977, 0.20000000000004547, 0.20000000000004547]\n",
      "Rango promedio por operador: 2.2666666666666893\n",
      "Rangos promedios totales:2.200000000000032\n"
     ]
    },
    {
     "data": {
      "text/plain": [
       "2.200000000000032"
      ]
     },
     "execution_count": 320,
     "metadata": {},
     "output_type": "execute_result"
    }
   ],
   "source": [
    "RPT(data,\"operador\")"
   ]
  },
  {
   "cell_type": "markdown",
   "metadata": {},
   "source": [
    "### Porcentaje de repetibilidad\n",
    "$$ \\%Repetibilidad = \\frac{K_1 \\overline{\\overline R}}{T}*100$$"
   ]
  },
  {
   "cell_type": "code",
   "execution_count": 323,
   "metadata": {},
   "outputs": [],
   "source": [
    "def PR (data_int, index, Tolerancia):\n",
    "    K_1 = [4.56,3.05,2.50,2.21]\n",
    "    ensayos = get_ensayos(data_int,index)[0]\n",
    "    ops_names = get_ensayos(data_int,index)[1]\n",
    "    n_med = len(data_int[data_int[index]==ops_names[0]][ensayos[0]])\n",
    "    temp_num = K_1[n_med-2]*(RPT(data_int,index))\n",
    "    PR_100 = (temp_num/Tolerancia)*100\n",
    "    print(\"Porcentaje de repetibilidad: \" + str(PR_100)+\"%\")\n",
    "    return PR_100#,K_1[n_med-2],RPT(data_int,index)"
   ]
  },
  {
   "cell_type": "code",
   "execution_count": 324,
   "metadata": {},
   "outputs": [
    {
     "name": "stdout",
     "output_type": "stream",
     "text": [
      "Rango de cada parte del equipo: [5.7000000000000455, 0.20000000000004547, 0.20000000000004547]\n",
      "Rango promedio por operador: 2.0333333333333785\n",
      "Rango de cada parte del equipo: [6.5, 0.20000000000004547, 0.20000000000004547]\n",
      "Rango promedio por operador: 2.30000000000003\n",
      "Rango de cada parte del equipo: [6.399999999999977, 0.20000000000004547, 0.20000000000004547]\n",
      "Rango promedio por operador: 2.2666666666666893\n",
      "Rangos promedios totales:2.200000000000032\n",
      "Porcentaje de repetibilidad: 167.65517241379558%\n"
     ]
    },
    {
     "data": {
      "text/plain": [
       "167.65517241379558"
      ]
     },
     "execution_count": 324,
     "metadata": {},
     "output_type": "execute_result"
    }
   ],
   "source": [
    "PR(data,\"operador\",2.9)"
   ]
  },
  {
   "cell_type": "markdown",
   "metadata": {},
   "source": [
    "### Medición promedio por operador\n",
    "$$\\overline{X_i} = \\frac {1}{nr}\\sum_{i=0}^n{X_i}$$"
   ]
  },
  {
   "cell_type": "code",
   "execution_count": 334,
   "metadata": {},
   "outputs": [],
   "source": [
    "def MPPO(data_int,index):\n",
    "    ensayos = get_ensayos(data_int,index)[0]\n",
    "    ops_names = get_ensayos(data_int,index)[1]\n",
    "    temp_sum_x = 0\n",
    "    n = 0\n",
    "    r = 0\n",
    "    xi_sum = []\n",
    "    for i in ops_names:\n",
    "        transpose_list = []\n",
    "        temp_sum_x = 0\n",
    "        transpose_list = data_int[data_int[index]==i][ensayos].values.transpose().tolist()\n",
    "        n = len(transpose_list)\n",
    "        for i in transpose_list:\n",
    "            r = len(i)\n",
    "            temp_sum_x += sum(i)\n",
    "        xi_sum.append(temp_sum_x)\n",
    "    for i in range(0,len(xi_sum)):\n",
    "        xi_sum[i] = (1/(n*r))*(xi_sum[i])\n",
    "    print(\"Medición promedio por operador: \"+str(xi_sum))\n",
    "    return xi_sum"
   ]
  },
  {
   "cell_type": "code",
   "execution_count": 335,
   "metadata": {},
   "outputs": [
    {
     "name": "stdout",
     "output_type": "stream",
     "text": [
      "Medición promedio por operador: [301.3466666666667, 301.4, 301.3]\n"
     ]
    },
    {
     "data": {
      "text/plain": [
       "[301.3466666666667, 301.4, 301.3]"
      ]
     },
     "execution_count": 335,
     "metadata": {},
     "output_type": "execute_result"
    }
   ],
   "source": [
    "MPPO(data,\"operador\")"
   ]
  },
  {
   "cell_type": "markdown",
   "metadata": {},
   "source": [
    "### Diferencia de medición promedio\n",
    "$$ \\overline{X_D} = X_{i_{max}} - X_{i_{max}} $$ "
   ]
  },
  {
   "cell_type": "code",
   "execution_count": 328,
   "metadata": {},
   "outputs": [],
   "source": [
    "def DMP (data_int,index):\n",
    "    var_DMP = MPPO(data_int,index)\n",
    "    RT = max(var_DMP)-min(var_DMP)\n",
    "    print(\"Diferencia de medición promedio: \"+str(RT))\n",
    "    return RT"
   ]
  },
  {
   "cell_type": "code",
   "execution_count": 329,
   "metadata": {},
   "outputs": [
    {
     "name": "stdout",
     "output_type": "stream",
     "text": [
      "Medición promedio por operador: [301.3466666666667, 301.4, 301.3]\n",
      "Diferencia de medición promedio: 0.0999999999999659\n"
     ]
    },
    {
     "data": {
      "text/plain": [
       "0.0999999999999659"
      ]
     },
     "execution_count": 329,
     "metadata": {},
     "output_type": "execute_result"
    }
   ],
   "source": [
    "DMP(data,\"operador\")"
   ]
  },
  {
   "cell_type": "markdown",
   "metadata": {},
   "source": [
    "### Porcentaje de reproducibilidad\n",
    "$$ \\% Reproducibilidad = \\frac {\\sqrt {\n",
    "(K_2 * \\overline {X_D})^2 - \\frac {(K_1 \\overline {\\overline R})^2}{nr}}}\n",
    "{T} * 100\\%$$"
   ]
  },
  {
   "cell_type": "code",
   "execution_count": 343,
   "metadata": {},
   "outputs": [],
   "source": [
    "def PREPRO(data_int, index, Tolerancia):\n",
    "    ops_n= len(data_int[index].unique().tolist())\n",
    "    nr = get_nr(data_int, index)[0]*get_nr(data_int, index)[1]\n",
    "    K_1 = [4.56,3.05,2.50,2.21]\n",
    "    K_2 = [3.65,2.70,2.30,2.08]\n",
    "    A = (K_2[ops_n-2] * DMP(data_int,index))**2\n",
    "    B = (K_1[get_nr(data_int, index)[1]-2] * RPT(data_int,index))**2\n",
    "    C = A - (B/nr)\n",
    "    if C > 0:\n",
    "        D = np.sqrt(C)\n",
    "        R = (D/Tolerancia)*100\n",
    "        print(\"Porcentaje de reproducibilidad: \"+str(R)+\"%\")\n",
    "        return R\n",
    "    else :\n",
    "        print(\"Porcentaje de reproducibilidad: \"+str(0)+\"%\")\n",
    "        return 0"
   ]
  },
  {
   "cell_type": "code",
   "execution_count": 344,
   "metadata": {},
   "outputs": [
    {
     "name": "stdout",
     "output_type": "stream",
     "text": [
      "Medición promedio por operador: [570.6733333333332, 570.7466666666667, 570.76]\n",
      "Diferencia de medición promedio: 0.08666666666681522\n",
      "Rango de cada parte del equipo: [0.09999999999990905, 0.10000000000002274, 0.09999999999990905]\n",
      "Rango promedio por operador: 0.09999999999994694\n",
      "Rango de cada parte del equipo: [0.09999999999990905, 0.10000000000002274, 0.10000000000002274]\n",
      "Rango promedio por operador: 0.09999999999998484\n",
      "Rango de cada parte del equipo: [0.09999999999990905, 0.10000000000002274, 0.10000000000002274]\n",
      "Rango promedio por operador: 0.09999999999998484\n",
      "Rangos promedios totales:0.0999999999999722\n",
      "Porcentaje de reproducibilidad: 7.825378188770965%\n"
     ]
    },
    {
     "data": {
      "text/plain": [
       "7.825378188770965"
      ]
     },
     "execution_count": 344,
     "metadata": {},
     "output_type": "execute_result"
    }
   ],
   "source": [
    "PREPRO(data,\"operador\",2.9)"
   ]
  },
  {
   "cell_type": "markdown",
   "metadata": {},
   "source": [
    "### Porcentaje de la relación entre la repetibilidad y la reproducibilidad\n",
    "$$\\% R\\&R =\\sqrt{(\\%Repetibilidad){^2}+(Reproducibilidad){^2}}$$"
   ]
  },
  {
   "cell_type": "code",
   "execution_count": 283,
   "metadata": {},
   "outputs": [],
   "source": [
    "def R_R(data_int, index, Tolerancia):\n",
    "    REPE = PR(data_int, index, Tolerancia)\n",
    "    REPR = PREPRO(data_int, index, Tolerancia)\n",
    "    return np.sqrt((REPE**2)+(REPR**2)),REPE,REPR"
   ]
  },
  {
   "cell_type": "code",
   "execution_count": 346,
   "metadata": {},
   "outputs": [
    {
     "name": "stdout",
     "output_type": "stream",
     "text": [
      "Rango de cada parte del equipo: [0.09999999999990905, 0.10000000000002274, 0.09999999999990905]\n",
      "Rango promedio por operador: 0.09999999999994694\n",
      "Rango de cada parte del equipo: [0.09999999999990905, 0.10000000000002274, 0.10000000000002274]\n",
      "Rango promedio por operador: 0.09999999999998484\n",
      "Rango de cada parte del equipo: [0.09999999999990905, 0.10000000000002274, 0.10000000000002274]\n",
      "Rango promedio por operador: 0.09999999999998484\n",
      "Rangos promedios totales:0.0999999999999722\n",
      "Porcentaje de repetibilidad: 1.8888888888883637%\n",
      "Medición promedio por operador: [570.6733333333332, 570.7466666666667, 570.76]\n",
      "Diferencia de medición promedio: 0.08666666666681522\n",
      "Rango de cada parte del equipo: [0.09999999999990905, 0.10000000000002274, 0.09999999999990905]\n",
      "Rango promedio por operador: 0.09999999999994694\n",
      "Rango de cada parte del equipo: [0.09999999999990905, 0.10000000000002274, 0.10000000000002274]\n",
      "Rango promedio por operador: 0.09999999999998484\n",
      "Rango de cada parte del equipo: [0.09999999999990905, 0.10000000000002274, 0.10000000000002274]\n",
      "Rango promedio por operador: 0.09999999999998484\n",
      "Rangos promedios totales:0.0999999999999722\n",
      "Porcentaje de reproducibilidad: 1.9396236536269915%\n"
     ]
    },
    {
     "data": {
      "text/plain": [
       "(2.7074048740953462, 1.8888888888883637, 1.9396236536269915)"
      ]
     },
     "execution_count": 346,
     "metadata": {},
     "output_type": "execute_result"
    }
   ],
   "source": [
    "R_R(data,\"operador\",11.7)"
   ]
  },
  {
   "cell_type": "code",
   "execution_count": null,
   "metadata": {},
   "outputs": [],
   "source": []
  }
 ],
 "metadata": {
  "kernelspec": {
   "display_name": "Python 3",
   "language": "python",
   "name": "python3"
  },
  "language_info": {
   "codemirror_mode": {
    "name": "ipython",
    "version": 3
   },
   "file_extension": ".py",
   "mimetype": "text/x-python",
   "name": "python",
   "nbconvert_exporter": "python",
   "pygments_lexer": "ipython3",
   "version": "3.7.3"
  }
 },
 "nbformat": 4,
 "nbformat_minor": 2
}
