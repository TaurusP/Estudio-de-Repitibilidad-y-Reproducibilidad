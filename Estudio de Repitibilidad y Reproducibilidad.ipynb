{
 "cells": [
  {
   "cell_type": "code",
   "execution_count": 47,
   "metadata": {},
   "outputs": [
    {
     "data": {
      "text/html": [
       "<div>\n",
       "<style scoped>\n",
       "    .dataframe tbody tr th:only-of-type {\n",
       "        vertical-align: middle;\n",
       "    }\n",
       "\n",
       "    .dataframe tbody tr th {\n",
       "        vertical-align: top;\n",
       "    }\n",
       "\n",
       "    .dataframe thead th {\n",
       "        text-align: right;\n",
       "    }\n",
       "</style>\n",
       "<table border=\"1\" class=\"dataframe\">\n",
       "  <thead>\n",
       "    <tr style=\"text-align: right;\">\n",
       "      <th></th>\n",
       "      <th>operador</th>\n",
       "      <th>omega1</th>\n",
       "      <th>omega2</th>\n",
       "      <th>omega3</th>\n",
       "    </tr>\n",
       "  </thead>\n",
       "  <tbody>\n",
       "    <tr>\n",
       "      <td>0</td>\n",
       "      <td>A</td>\n",
       "      <td>300.4</td>\n",
       "      <td>300.1</td>\n",
       "      <td>300.5</td>\n",
       "    </tr>\n",
       "    <tr>\n",
       "      <td>1</td>\n",
       "      <td>A</td>\n",
       "      <td>305.6</td>\n",
       "      <td>299.9</td>\n",
       "      <td>300.4</td>\n",
       "    </tr>\n",
       "    <tr>\n",
       "      <td>2</td>\n",
       "      <td>A</td>\n",
       "      <td>300.8</td>\n",
       "      <td>300.0</td>\n",
       "      <td>300.4</td>\n",
       "    </tr>\n",
       "    <tr>\n",
       "      <td>3</td>\n",
       "      <td>A</td>\n",
       "      <td>306.1</td>\n",
       "      <td>300.0</td>\n",
       "      <td>300.5</td>\n",
       "    </tr>\n",
       "    <tr>\n",
       "      <td>4</td>\n",
       "      <td>A</td>\n",
       "      <td>305.0</td>\n",
       "      <td>299.9</td>\n",
       "      <td>300.6</td>\n",
       "    </tr>\n",
       "  </tbody>\n",
       "</table>\n",
       "</div>"
      ],
      "text/plain": [
       "  operador  omega1  omega2  omega3\n",
       "0        A   300.4   300.1   300.5\n",
       "1        A   305.6   299.9   300.4\n",
       "2        A   300.8   300.0   300.4\n",
       "3        A   306.1   300.0   300.5\n",
       "4        A   305.0   299.9   300.6"
      ]
     },
     "execution_count": 47,
     "metadata": {},
     "output_type": "execute_result"
    }
   ],
   "source": [
    "import pandas as pd\n",
    "data = pd.read_excel(\"Libro1.xlsx\")\n",
    "data.head()"
   ]
  },
  {
   "cell_type": "markdown",
   "metadata": {},
   "source": [
    "# Estudio de Repitibilidad y Reproducibilidad"
   ]
  },
  {
   "cell_type": "markdown",
   "metadata": {},
   "source": [
    "### Rango de cada parte del equipo\n",
    "$$R = X_{max} - X_{min}$$"
   ]
  },
  {
   "cell_type": "code",
   "execution_count": 1,
   "metadata": {},
   "outputs": [],
   "source": [
    "def rango(mediciones): # Obtiene todos los rangos de un determinado operad\n",
    "    rango_list = list(range(0, len(mediciones)))\n",
    "    for i in range(len(rango_list)):\n",
    "        rango_list[i] = max(mediciones[i])-min(mediciones[i])\n",
    "    return rango_list"
   ]
  },
  {
   "cell_type": "markdown",
   "metadata": {},
   "source": [
    "### Rango promedio por operador\n",
    "$$ \\overline R = \\frac {1}{n} \\sum_{i=1}^n R_i $$"
   ]
  },
  {
   "cell_type": "code",
   "execution_count": 3,
   "metadata": {},
   "outputs": [],
   "source": [
    "def rango_mean(mediciones):\n",
    "    sum_r = sum(rango(mediciones))\n",
    "    r_mean = 1/len(mediciones)\n",
    "    result = r_mean * sum_r\n",
    "    return result"
   ]
  },
  {
   "cell_type": "markdown",
   "metadata": {},
   "source": [
    "### Rangos promedios totales\n",
    "$$\\overline{\\overline R} = \\frac {1}{m} \\sum_{i=1}^m \\overline R_i $$ "
   ]
  },
  {
   "cell_type": "code",
   "execution_count": 52,
   "metadata": {},
   "outputs": [],
   "source": [
    "def RPT (data_int,index):\n",
    "    import numpy as np\n",
    "    ops_names= data_int[index].unique().tolist()    \n",
    "    total_colums = data_int.columns.values.tolist()\n",
    "    a = set([index])\n",
    "    b = set(total_colums)\n",
    "    ensayos = b-a\n",
    "    ensayos = list(ensayos)\n",
    "    ensayos.reverse()\n",
    "    x=[]\n",
    "    y=[]\n",
    "    #Calculamos el rango de cada parte\n",
    "    for i in ops_names:\n",
    "        row = data_int[data_int[index]==i][ensayos].values.tolist()\n",
    "        row = np.array(row)\n",
    "        x.append(rango_mean(row.transpose()))\n",
    "    RPT_V = 1/len(ops_names)*sum(x)\n",
    "    return RPT_V"
   ]
  },
  {
   "cell_type": "code",
   "execution_count": 55,
   "metadata": {},
   "outputs": [
    {
     "data": {
      "text/plain": [
       "2.200000000000032"
      ]
     },
     "execution_count": 55,
     "metadata": {},
     "output_type": "execute_result"
    }
   ],
   "source": [
    "RPT(data,\"operador\")"
   ]
  },
  {
   "cell_type": "markdown",
   "metadata": {},
   "source": [
    "### Porcentaje de repetibilidad\n",
    "$$ \\%Repetibilidad = \\frac{K_1 \\overline{\\overline R}}{T}*100$$"
   ]
  },
  {
   "cell_type": "code",
   "execution_count": 137,
   "metadata": {},
   "outputs": [],
   "source": [
    "def PR (data_int, index, Tolerancia):\n",
    "    K_1 = [4.56,3.05,2.50,2.21]\n",
    "    ops_names= data_int[index].unique().tolist()    \n",
    "    total_colums = data_int.columns.values.tolist()\n",
    "    a = set([index])\n",
    "    b = set(total_colums)\n",
    "    ensayos = b-a\n",
    "    ensayos = list(ensayos)\n",
    "    ensayos.reverse()\n",
    "    n_med = len(data_int[data_int[index]==ops_names[0]][ensayos[0]])\n",
    "    temp_num = K_1[n_med-2]*(RPT(data_int,index))\n",
    "    PR_100 = (temp_num/Tolerancia)*100\n",
    "    return PR_100#,K_1[n_med-2],RPT(data_int,index)"
   ]
  },
  {
   "cell_type": "code",
   "execution_count": 138,
   "metadata": {},
   "outputs": [
    {
     "data": {
      "text/plain": [
       "167.65517241379558"
      ]
     },
     "execution_count": 138,
     "metadata": {},
     "output_type": "execute_result"
    }
   ],
   "source": [
    "PR(data,\"operador\",2.9)"
   ]
  },
  {
   "cell_type": "markdown",
   "metadata": {},
   "source": [
    "### Medición promedio por operador\n",
    "$$\\overline{X_i} = \\frac {1}{nr}\\sum_{i=0}^n{X_i}$$"
   ]
  },
  {
   "cell_type": "code",
   "execution_count": 141,
   "metadata": {},
   "outputs": [
    {
     "data": {
      "text/plain": [
       "4520.200000000001"
      ]
     },
     "execution_count": 141,
     "metadata": {},
     "output_type": "execute_result"
    }
   ],
   "source": [
    "def MPPO:\n",
    "    cosa_transpose_list = np.array(data[data[\"operador\"]==\"A\"].values.tolist()).transpose().tolist()\n",
    "    del cosa_transpose_list[0]\n",
    "    temp_sum_x = 0\n",
    "    for i in range(0,len(cosa_transpose_list)):\n",
    "        cosa_transpose_list[i] = list(map(float,cosa_transpose_list[i]))\n",
    "    for i in cosa_transpose_list:\n",
    "        temp_sum_x += sum(i)\n",
    "    temp_sum_x"
   ]
  },
  {
   "cell_type": "code",
   "execution_count": null,
   "metadata": {},
   "outputs": [],
   "source": []
  }
 ],
 "metadata": {
  "kernelspec": {
   "display_name": "Python 3",
   "language": "python",
   "name": "python3"
  },
  "language_info": {
   "codemirror_mode": {
    "name": "ipython",
    "version": 3
   },
   "file_extension": ".py",
   "mimetype": "text/x-python",
   "name": "python",
   "nbconvert_exporter": "python",
   "pygments_lexer": "ipython3",
   "version": "3.7.4"
  }
 },
 "nbformat": 4,
 "nbformat_minor": 2
}
